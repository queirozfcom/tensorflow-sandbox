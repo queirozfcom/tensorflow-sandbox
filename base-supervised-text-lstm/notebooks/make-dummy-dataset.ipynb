{
 "cells": [
  {
   "cell_type": "markdown",
   "metadata": {},
   "source": [
    "### downloaded from https://www.kaggle.com/pariza/bbc-news-summary"
   ]
  },
  {
   "cell_type": "code",
   "execution_count": 1,
   "metadata": {},
   "outputs": [
    {
     "data": {
      "text/plain": [
       "('/home/felipe/tf2-venv/bin/python3', '3.6.9')"
      ]
     },
     "execution_count": 1,
     "metadata": {},
     "output_type": "execute_result"
    }
   ],
   "source": [
    "import sys\n",
    "from platform import python_version\n",
    "\n",
    "sys.executable,python_version()"
   ]
  },
  {
   "cell_type": "code",
   "execution_count": 2,
   "metadata": {},
   "outputs": [],
   "source": [
    "import pandas as pd\n",
    "import tensorflow as tf\n",
    "\n",
    "import csv\n",
    "import numpy as np\n",
    "import os\n",
    "import time"
   ]
  },
  {
   "cell_type": "code",
   "execution_count": 3,
   "metadata": {},
   "outputs": [],
   "source": [
    "# general options\n",
    "pd.set_option('display.max_columns',100)\n",
    "pd.set_option('display.max_rows',100)\n",
    "\n",
    "# for text columns\n",
    "pd.set_option('display.max_colwidth',1000)\n",
    "pd.set_option('display.html.use_mathjax',False)"
   ]
  },
  {
   "cell_type": "code",
   "execution_count": 4,
   "metadata": {},
   "outputs": [
    {
     "data": {
      "text/plain": [
       "('1.19.0', '1.0.5', '2.2.0')"
      ]
     },
     "execution_count": 4,
     "metadata": {},
     "output_type": "execute_result"
    }
   ],
   "source": [
    "np.__version__,pd.__version__,tf.__version__"
   ]
  },
  {
   "cell_type": "code",
   "execution_count": 5,
   "metadata": {},
   "outputs": [],
   "source": [
    "directory_text = '/home/felipe/tensorflow-sandbox/base-supervised-text-lstm/data/raw/BBC News Summary/News Articles/'\n",
    "directory_sum = '/home/felipe/tensorflow-sandbox/base-supervised-text-lstm/data/raw/BBC News Summary/Summaries/'"
   ]
  },
  {
   "cell_type": "code",
   "execution_count": 6,
   "metadata": {},
   "outputs": [],
   "source": [
    "output_dir = \"/home/felipe/tensorflow-sandbox/base-supervised-text-lstm/data/processed/\""
   ]
  },
  {
   "cell_type": "code",
   "execution_count": 7,
   "metadata": {},
   "outputs": [],
   "source": [
    "def generate_data(folder, sect):\n",
    "\n",
    "    print(\"Collecting data.... \", end='')\n",
    "    data = []\n",
    "    count = 0\n",
    "    \n",
    "    for file in os.listdir(folder):\n",
    "        if file == sect:\n",
    "            for file in os.listdir(folder + sect):\n",
    "                try:\n",
    "                    text = ''\n",
    "                    name = file\n",
    "                    myfile = open(folder+sect+'/'+file, \"r\")\n",
    "                    text = myfile.read()\n",
    "                    mylist = [name, text]\n",
    "                    count +=1\n",
    "                    data.append(mylist)\n",
    "                except:\n",
    "                    continue\n",
    "\n",
    "    print(\"collected!\")\n",
    "    print(str(count) + \" text files found in \"+ sect + \" folder.\")\n",
    "    print(\"Data generated\")\n",
    "    return (data, count)"
   ]
  },
  {
   "cell_type": "code",
   "execution_count": 8,
   "metadata": {},
   "outputs": [],
   "source": [
    "def match_data(data_text, data_summary, count, name):\n",
    "    \n",
    "    print(\"Creating dataframe.....\", end='')\n",
    "    df_text = pd.DataFrame(data_text, columns = ['File', 'Text'])\n",
    "    df_sum = pd.DataFrame(data_summary, columns = ['File', 'Summary'])\n",
    "    print(\"DONE!\")\n",
    "    \n",
    "    print(\"Joining dataframes.....\", end='')\n",
    "    df_final = pd.merge(df_text, df_sum, on='File')\n",
    "    print(\"DONE!\")\n",
    "    \n",
    "    print(name+ \".csv Saved\")\n",
    "    \n",
    "    return df_final"
   ]
  },
  {
   "cell_type": "code",
   "execution_count": 9,
   "metadata": {},
   "outputs": [
    {
     "name": "stdout",
     "output_type": "stream",
     "text": [
      "Collecting data.... collected!\n",
      "510 text files found in business folder.\n",
      "Data generated\n",
      "Collecting data.... collected!\n",
      "510 text files found in business folder.\n",
      "Data generated\n",
      "Creating dataframe.....DONE!\n",
      "Joining dataframes.....DONE!\n",
      "business.csv Saved\n",
      "Collecting data.... collected!\n",
      "386 text files found in entertainment folder.\n",
      "Data generated\n",
      "Collecting data.... collected!\n",
      "386 text files found in entertainment folder.\n",
      "Data generated\n",
      "Creating dataframe.....DONE!\n",
      "Joining dataframes.....DONE!\n",
      "entertainment.csv Saved\n",
      "Collecting data.... collected!\n",
      "417 text files found in politics folder.\n",
      "Data generated\n",
      "Collecting data.... collected!\n",
      "417 text files found in politics folder.\n",
      "Data generated\n",
      "Creating dataframe.....DONE!\n",
      "Joining dataframes.....DONE!\n",
      "politics.csv Saved\n",
      "Collecting data.... collected!\n",
      "510 text files found in sport folder.\n",
      "Data generated\n",
      "Collecting data.... collected!\n",
      "511 text files found in sport folder.\n",
      "Data generated\n",
      "Creating dataframe.....DONE!\n",
      "Joining dataframes.....DONE!\n",
      "sport.csv Saved\n",
      "Collecting data.... collected!\n",
      "401 text files found in tech folder.\n",
      "Data generated\n",
      "Collecting data.... collected!\n",
      "401 text files found in tech folder.\n",
      "Data generated\n",
      "Creating dataframe.....DONE!\n",
      "Joining dataframes.....DONE!\n",
      "tech.csv Saved\n"
     ]
    }
   ],
   "source": [
    "data_business, count = generate_data( directory_text, 'business')\n",
    "data_business_summary, count = generate_data( directory_sum, 'business')\n",
    "df_business = match_data(data_business, data_business_summary, count, \"business\")\n",
    "\n",
    "data_entertainment, count = generate_data( directory_text, 'entertainment')\n",
    "data_entertainment_summary, count = generate_data( directory_sum, 'entertainment')\n",
    "df_entertainment = match_data(data_entertainment, data_entertainment_summary, count, \"entertainment\")\n",
    "\n",
    "data_politics, count = generate_data( directory_text, 'politics')\n",
    "data_politics_summary, count = generate_data( directory_sum, 'politics')\n",
    "df_politics = match_data(data_politics, data_politics_summary, count, \"politics\")\n",
    "\n",
    "data_sport, count = generate_data( directory_text, 'sport')\n",
    "data_sport_summary, count = generate_data( directory_sum, 'sport')\n",
    "df_sport = match_data(data_sport, data_sport_summary, count, \"sport\")\n",
    "\n",
    "data_tech, count = generate_data( directory_text, 'tech')\n",
    "data_tech_summary, count = generate_data( directory_sum, 'tech')\n",
    "df_tech = match_data(data_tech, data_tech_summary, count, \"tech\")"
   ]
  },
  {
   "cell_type": "code",
   "execution_count": 10,
   "metadata": {},
   "outputs": [],
   "source": [
    "df_business['source'] = 'business'"
   ]
  },
  {
   "cell_type": "code",
   "execution_count": 11,
   "metadata": {},
   "outputs": [],
   "source": [
    "df_entertainment['source'] = 'entertrainment'"
   ]
  },
  {
   "cell_type": "code",
   "execution_count": 12,
   "metadata": {},
   "outputs": [],
   "source": [
    "df_politics['source'] = 'politics'"
   ]
  },
  {
   "cell_type": "code",
   "execution_count": 13,
   "metadata": {},
   "outputs": [],
   "source": [
    "df_sport['source'] = 'sport'"
   ]
  },
  {
   "cell_type": "code",
   "execution_count": 14,
   "metadata": {},
   "outputs": [],
   "source": [
    "df_tech['source'] = 'tech'"
   ]
  },
  {
   "cell_type": "code",
   "execution_count": 15,
   "metadata": {},
   "outputs": [],
   "source": [
    "df = pd.concat([df_business,df_entertainment,df_politics,df_sport,df_tech], ignore_index=True)"
   ]
  },
  {
   "cell_type": "code",
   "execution_count": 16,
   "metadata": {
    "scrolled": false
   },
   "outputs": [
    {
     "data": {
      "text/html": [
       "<div>\n",
       "<style scoped>\n",
       "    .dataframe tbody tr th:only-of-type {\n",
       "        vertical-align: middle;\n",
       "    }\n",
       "\n",
       "    .dataframe tbody tr th {\n",
       "        vertical-align: top;\n",
       "    }\n",
       "\n",
       "    .dataframe thead th {\n",
       "        text-align: right;\n",
       "    }\n",
       "</style>\n",
       "<table border=\"1\" class=\"dataframe tex2jax_ignore\">\n",
       "  <thead>\n",
       "    <tr style=\"text-align: right;\">\n",
       "      <th></th>\n",
       "      <th>File</th>\n",
       "      <th>Text</th>\n",
       "      <th>Summary</th>\n",
       "      <th>source</th>\n",
       "    </tr>\n",
       "  </thead>\n",
       "  <tbody>\n",
       "    <tr>\n",
       "      <th>545</th>\n",
       "      <td>147.txt</td>\n",
       "      <td>Beastie Boys win sampling battle\\n\\nUS rappers Beastie Boys have won their long-running battle over the use of a sample in their song Pass the Mic.\\n\\nThe punk-rappers used three notes of music from flautist James Newton's Choir in their track from 1992. Although the group had paid a licence fee for the sample, Mr Newton said his copyright had been infringed. But the US Court of Appeal upheld its original decision that the group did not have to pay an additional fee to license the underlying composition. The Beastie Boys - Michael Diamond, Adam Horowitz, and Adam Yauch - are considered to be one of early pioneers of sampling music.\\n\\nSampling, now a standard practice among musicians, involves taking a segment of one track and using it in a different song. A three-judge panel of the court held in 2003 that the band had abided by copyright protections by paying a licence fee for a sample of Mr Newton's recording. That finding upheld a lower-court dismissal of the case in favour of t...</td>\n",
       "      <td>Mr Newton and the Beastie Boys were not available for comment.Although the group had paid a licence fee for the sample, Mr Newton said his copyright had been infringed.US rappers Beastie Boys have won their long-running battle over the use of a sample in their song Pass the Mic.\"We hold that Beastie Boys' use of a brief segment of that composition, consisting of three notes separated by a half-step over a background C note, is not sufficient to sustain a claim for infringement of Newton's copyright,\" Chief Judge Mary Schroeder wrote in her opinion.A three-judge panel of the court held in 2003 that the band had abided by copyright protections by paying a licence fee for a sample of Mr Newton's recording.</td>\n",
       "      <td>entertrainment</td>\n",
       "    </tr>\n",
       "    <tr>\n",
       "      <th>1918</th>\n",
       "      <td>125.txt</td>\n",
       "      <td>The Force is strong in Battlefront\\n\\nThe warm reception that has greeted Star Wars: Battlefront is a reflection not of any ingenious innovation in its gameplay, but of its back-to-basics approach and immense nostalgia quotient.\\n\\nGeared towards online gamers, it is based around little more than a series of all-out gunfights, set in an array of locations all featured in, or hinted at during, the two blockbusting film trilogies. Previous Star Wars titles like the acclaimed Knights Of The Old Republic and Jedi Knight have regularly impressed with their imaginative forays into the far corners of the franchise's extensive universe, and their use of weird and wonderful new characters. Battlefront on the other hand wholeheartedly revisits the most recognisable elements of the hit movies themselves.\\n\\nThe sights, sounds and protagonists on show here will all be instantly familiar to fans, who may well feel that the opportunity to relive Star Wars' most memorable screen skirmishes makes ...</td>\n",
       "      <td>It has to be said if the game did not have the boon of being Star Wars, it would not stand up for long.The sights, sounds and protagonists on show here will all be instantly familiar to fans, who may well feel that the opportunity to relive Star Wars' most memorable screen skirmishes makes this the game they have always waited for.Speaking of noise, Battlefront is a real testament to the strength of the Star Wars galaxy's audio motifs.The warm reception that has greeted Star Wars: Battlefront is a reflection not of any ingenious innovation in its gameplay, but of its back-to-basics approach and immense nostalgia quotient.Whilst it is firmly designed with multiplayer action in mind, Battlefront is actually perfectly good fun as an offline game.The number of combatants, noise and abundance of laser fire see to that, and the sense of chaos really comes over.The feel of those places is well and truly captured, with both backdrops and characters looking good and very authentic.There are...</td>\n",
       "      <td>tech</td>\n",
       "    </tr>\n",
       "    <tr>\n",
       "      <th>1923</th>\n",
       "      <td>211.txt</td>\n",
       "      <td>Millions to miss out on the net\\n\\nBy 2025, 40% of the UK's population will still be without internet access at home, says a study.\\n\\nAround 23 million Britons will miss out on a wide range of essential services such as education and medical information, predicts the report by telecoms giant BT. It compares to 27 million, or 50%, of the UK, who are not currently online. The idea that the digital divide will evaporate with time is \"wishful thinking\", the report concludes.\\n\\nThe study calls on the government and telecoms industry to come up with new ways to lure those that have been bypassed by the digital revolution. Although the percentage of Britons without home access will have fallen slightly, those that remain digital refuseniks will miss out on more, the report suggests. As more and more everyday tasks move online and offline services become less comprehensive, the divide will become more obvious and more burdensome for those that have not got net access, it predicts.\\n\\nThe...</td>\n",
       "      <td>Although the percentage of Britons without home access will have fallen slightly, those that remain digital refuseniks will miss out on more, the report suggests.\"Internet access on other devices tends to be something taken up by those who already have it,\" said Adrian Hosford, director of corporate responsibility at BT.Optimists who predict that convergence and the emergence of more user-friendly technology will bridge the digital divide could be way off mark, the report suggests.Organisations such as BT have a responsibility to help tackle the problem, said Mr Hosford.Such grassroot activity addressing the specific needs of individual communities is essential is the problem of the digital divide is to be overcome, he said.The idea that the digital divide will evaporate with time is \"wishful thinking\", the report concludes.Those on low incomes will account for a quarter of the digital have-nots, the disabled will make up 16% and the elderly nearly a third by 2025, the report forec...</td>\n",
       "      <td>tech</td>\n",
       "    </tr>\n",
       "    <tr>\n",
       "      <th>1486</th>\n",
       "      <td>091.txt</td>\n",
       "      <td>Balco case trial date pushed back\\n\\nThe trial date for the Bay Area Laboratory Cooperative (Balco) steroid distribution case has been postponed.\\n\\nUS judge Susan Illston pushed back a preliminary evidentiary hearing - which was due to take place on Wednesday - until 6 June. No official trial date has been set but it is expected to begin in September. Balco founder Victor Conte along with James Valente, coach Remy Korchemny and trainer Greg Anderson are charged with distributing steroids to athletes.\\n\\nAnderson's clients include Barry Bonds, and several other baseball stars have been asked to appear before a congressional inquiry into steroid use in the major leagues. The Balco defence team have already lost their appeal to have the case dismissed at a pre-trial hearing in San Francisco but will still argue the case should not go to trial. The hearing in June will focus on the admissibility of evidence gathered during police raids on Balco's offices and Anderson's home. Conte and...</td>\n",
       "      <td>The trial date for the Bay Area Laboratory Cooperative (Balco) steroid distribution case has been postponed.Balco has been accused by the United States Anti-Doping Agency (USADA) of being the source of the banned steroid THG and modafinil.The Balco defence team have already lost their appeal to have the case dismissed at a pre-trial hearing in San Francisco but will still argue the case should not go to trial.Balco founder Victor Conte along with James Valente, coach Remy Korchemny and trainer Greg Anderson are charged with distributing steroids to athletes.No official trial date has been set but it is expected to begin in September.Former double world champion Kelli White and Olympic relay star Alvin Harrison have both been banned on the basis of materials discovered during the Balco investigation.</td>\n",
       "      <td>sport</td>\n",
       "    </tr>\n",
       "    <tr>\n",
       "      <th>2098</th>\n",
       "      <td>196.txt</td>\n",
       "      <td>New browser wins over net surfers\\n\\nThe proportion of surfers using Microsoft's Internet Explorer (IE) has dropped to below 90%, say web analysts.\\n\\nNet traffic monitor, OneStat.com, has reported that the open-source browser Firefox 1.0, released on 9 November, seems to be drawing users away from IE. While IE's market share has dropped 5% since May to 88.9%, Mozilla browsers - including Firefox - have grown by 5%. Firefox is made by the Mozilla Foundation which was set up by former browser maker Netscape in 1998. Although there have been other preview versions of Firefox, version 1.0 was the first complete official program. \"It seems that people are switching from Microsoft's Internet Explorer to Mozilla's new Firefox browser,\" said Niels Brinkman, co-founder of Amsterdam-based OneStat.com.\\n\\nMozilla browsers - including Firefox 1.0 - now have 7.4% of the market share, the figures suggest. Mozilla said that more than five million have downloaded the free software since its offic...</td>\n",
       "      <td>Mozilla browsers - including Firefox 1.0 - now have 7.4% of the market share, the figures suggest.While IE's market share has dropped 5% since May to 88.9%, Mozilla browsers - including Firefox - have grown by 5%.Net traffic monitor, OneStat.com, has reported that the open-source browser Firefox 1.0, released on 9 November, seems to be drawing users away from IE.Firefox is made by the Mozilla Foundation which was set up by former browser maker Netscape in 1998.\"It seems that people are switching from Microsoft's Internet Explorer to Mozilla's new Firefox browser,\" said Niels Brinkman, co-founder of Amsterdam-based OneStat.com.Microsoft IE has dominated the browser market for some time after taking the crown from Netscape, and its share of users has always stayed at around the 95% mark.Other browser software, like Opera and Apple's Safari, are also challenging Microsoft's grip on the browser market.Firefox wants to capture 10% of the market by the end of 2005.Supporters of the open-...</td>\n",
       "      <td>tech</td>\n",
       "    </tr>\n",
       "    <tr>\n",
       "      <th>1312</th>\n",
       "      <td>129.txt</td>\n",
       "      <td>UK troops on Ivory Coast standby\\n\\nDowning Street has confirmed British troops are on standby in case they need to help evacuate several hundred UK citizens from Ivory Coast.\\n\\nThe news came as it emerged France had begun evacuating its hostages after days of anti-French demonstrations. Trouble flared after nine French peacekeepers were killed and President Jacques Chirac ordered the destruction of the Ivory Coast's air force. A company of 100-120 UK troops is understood to have been put on standby. They are ready to fly out and secure the route from the embassy to the airport if called upon. Prime Minister Tony Blair's official spokesman said: \"There are British nationals in Ivory Coast and as you can imagine we are making the usual contingency plans in case the situation deteriorates further, but that's all I can say at this stage.\"\\n\\nHe added the situation would be monitored carefully in case evacuation became necessary. France has played a lead role in international peacekee...</td>\n",
       "      <td>Downing Street has confirmed British troops are on standby in case they need to help evacuate several hundred UK citizens from Ivory Coast.The Spanish have already put their forces on standby to evacuate their nationals if necessary.Trouble flared after nine French peacekeepers were killed and President Jacques Chirac ordered the destruction of the Ivory Coast's air force.France has played a lead role in international peacekeeping in Ivory Coast - a former colony - after President Laurent Gbagbo broke an 18-month ceasefire with rebels bombing their positions and killing the nine French soldiers.</td>\n",
       "      <td>politics</td>\n",
       "    </tr>\n",
       "    <tr>\n",
       "      <th>1179</th>\n",
       "      <td>196.txt</td>\n",
       "      <td>Mandelson warning to BBC\\n\\nThe BBC should steer away from \"demonising\" ex-Downing Street media chief Alastair Campbell, Peter Mandelson has said.\\n\\nThe European commissioner and former Labour minister was speaking amid claims that Mr Campbell is part of a Labour \"dirty tricks\" campaign. That charge was denied by Mr Mandelson, who said the Tories were afraid of Mr Campbell's campaigning skills. He warned the BBC that attacking Mr Campbell had brought it trouble before. That was a reference to the Hutton inquiry following a BBC story claiming Downing Street \"sexed up\" Iraq's weapons of mass destruction dossier.\\n\\nThe affair prompted the resignation of BBC chairman Gavyn Davies, director-general Greg Dyke and reporter Andrew Gilligan. Labour has attracted media criticism for using new freedom of information laws to dig up information about Tory leader Michael Howard's past.\\n\\nMr Mandelson, a former Labour communications director, told BBC Radio 4's Today programme: \"I understand w...</td>\n",
       "      <td>Mr Mandelson, a former Labour communications director, told BBC Radio 4's Today programme: \"I understand why the Tories will be gunning for Alastair Campbell because they fear his campaigning skills.That charge was denied by Mr Mandelson, who said the Tories were afraid of Mr Campbell's campaigning skills.He warned the BBC that attacking Mr Campbell had brought it trouble before.The European commissioner and former Labour minister was speaking amid claims that Mr Campbell is part of a Labour \"dirty tricks\" campaign.Mr Campbell is acting as an adviser for Labour, which denies engaging in personal campaigning.The BBC should steer away from \"demonising\" ex-Downing Street media chief Alastair Campbell, Peter Mandelson has said.Conservative co-chairman Liam Fox said Mr Campbell's return and Labour poster plans attacking Mr Howard - recently withdrawn from the party's website - were a sign of \"abusive politics\".</td>\n",
       "      <td>politics</td>\n",
       "    </tr>\n",
       "    <tr>\n",
       "      <th>873</th>\n",
       "      <td>130.txt</td>\n",
       "      <td>Charity single for quake relief\\n\\nSingers including Sir Cliff Richard and Boy George are recording a charity single to help raise funds for victims of the Asian tsunami.\\n\\nThey hope the song will raise more than £2m for the relief fund. The song, titled Grief Never Grows Old and described as a melancholy ballad, was written by radio DJ Mike Read. Former Boyzone singer Ronan Keating may also take part if a studio can be found close to where he is holidaying in Switzerland. Other music stars being approached include Robin and Barry Gibb of The Bee Gees, jazz sensation Jamie Cullum, Chris Rea and Olivia Newton-John.\\n\\nSir Cliff has recorded his vocal part in Barbados, while Boy George has recorded his in New York. Read wrote the song before the Boxing Day tragedy but had thought it was too gloomy to release. Now he plans to have it recorded by a collection of pop stars under the name One World Project. \"It's a natural home for it because people kept saying to me, 'it's such a good ...</td>\n",
       "      <td>He said the song was a slow ballad and would work with around 10 singers, rather than a \"sing-along\" like the Band Aid 20 single raising money for famine relief in Africa.They hope the song will raise more than £2m for the relief fund.Read wrote the song before the Boxing Day tragedy but had thought it was too gloomy to release.\"It's a natural home for it because people kept saying to me, 'it's such a good song', but it's such a sad song,\" Read said.Read said all the funds raised by the record would go to the DEC. \"I'd only be pleased in terms of what it meant for sales if it got to number one,\" he added.Sir Cliff has recorded his vocal part in Barbados, while Boy George has recorded his in New York.</td>\n",
       "      <td>entertrainment</td>\n",
       "    </tr>\n",
       "    <tr>\n",
       "      <th>509</th>\n",
       "      <td>129.txt</td>\n",
       "      <td>Iraq to invite phone licence bids\\n\\nIraq is to invite bids for two telephone licences, saying it wants to significantly boost nationwide coverage over the next decade.\\n\\nBids have been invited from local, Arab and foreign companies, Iraq's Ministry of Communications said. The winner will work in partnership with the Iraqi Telecommunications and Post Company (ITPC). The firms will install and operate a fixed phone network, providing voice, fax and internet services.\\n\\nThe ministry said that it wanted to increase Iraq's \"very low telephone service penetration rate from about 4.5% today to about 25% within 10 years.\" It also hopes to develop a \"highly visible and changeable telecommunication sector\". Details of the bidding and tender process will be published on the ministry's website on 9 February. It also is planning a road-show for investors in Amman, Jordan. The ministry said it would base its selection on criteria including the speed of implementation, tariff rates, coverage, ...</td>\n",
       "      <td>The ministry said that it wanted to increase Iraq's \"very low telephone service penetration rate from about 4.5% today to about 25% within 10 years.\"Bids have been invited from local, Arab and foreign companies, Iraq's Ministry of Communications said.The ministry said it would base its selection on criteria including the speed of implementation, tariff rates, coverage, and the firm's experience and financial strength.It also hopes to develop a \"highly visible and changeable telecommunication sector\".</td>\n",
       "      <td>business</td>\n",
       "    </tr>\n",
       "    <tr>\n",
       "      <th>1803</th>\n",
       "      <td>302.txt</td>\n",
       "      <td>Italy 17-28 Ireland\\n\\nTwo moments of magic from Brian O'Driscoll guided Ireland to a workmanlike victory against Italy.\\n\\nA pair of classic outside breaks from the Ireland captain set up tries for Geordan Murphy and Peter Stringer. Italy led 9-8 early in the second half but Stringer's try gave Ireland a lead they never lost. The hosts cut the gap to 18-12 with 10 minutes left and nearly scored through Ludovico Nitoglia, but Denis Hickie's try ensured an Irish victory. Italy came flying out of the blocks and took the lead through a Luciano Orquera penalty after seven minutes.\\n\\nIt could have been better for the hosts but the fly-half missed two kickable penalties and Ireland drew level with a Ronan O'Gara penalty midway through the first half. The Italians were driving at the heart of the Irish defence and, for the first quarter, the Irish pack struggled to secure any ball for their talented backs.\\n\\nWhen they finally did, just before the half-hour mark, O'Driscoll promptly crea...</td>\n",
       "      <td>An O'Gara penalty put Ireland more than a converted try ahead and they made the game safe when Hickie latched onto an inside pass from Murphy and crossed for a converted try.A pair of classic outside breaks from the Ireland captain set up tries for Geordan Murphy and Peter Stringer.The only Ireland player offering a real threat was O'Driscoll, and it was his break that set up the second try for the visitors.Italy led 9-8 early in the second half but Stringer's try gave Ireland a lead they never lost.Roland de Marigny took over the kicking duties for Italy from the hapless Orquera, and he landed a penalty either side of the break to edge Italy into a 9-8 lead.Two moments of magic from Brian O'Driscoll guided Ireland to a workmanlike victory against Italy.It could have been better for the hosts but the fly-half missed two kickable penalties and Ireland drew level with a Ronan O'Gara penalty midway through the first half.Murphy, Horgan, O'Driscoll, D'Arcy, Hickie, O'Gara, Stringer, Co...</td>\n",
       "      <td>sport</td>\n",
       "    </tr>\n",
       "  </tbody>\n",
       "</table>\n",
       "</div>"
      ],
      "text/plain": [
       "         File  \\\n",
       "545   147.txt   \n",
       "1918  125.txt   \n",
       "1923  211.txt   \n",
       "1486  091.txt   \n",
       "2098  196.txt   \n",
       "1312  129.txt   \n",
       "1179  196.txt   \n",
       "873   130.txt   \n",
       "509   129.txt   \n",
       "1803  302.txt   \n",
       "\n",
       "                                                                                                                                                                                                                                                                                                                                                                                                                                                                                                                                                                                                                                                                                                                                                                                                                                                                                                                                                                                                                                         Text  \\\n",
       "545   Beastie Boys win sampling battle\\n\\nUS rappers Beastie Boys have won their long-running battle over the use of a sample in their song Pass the Mic.\\n\\nThe punk-rappers used three notes of music from flautist James Newton's Choir in their track from 1992. Although the group had paid a licence fee for the sample, Mr Newton said his copyright had been infringed. But the US Court of Appeal upheld its original decision that the group did not have to pay an additional fee to license the underlying composition. The Beastie Boys - Michael Diamond, Adam Horowitz, and Adam Yauch - are considered to be one of early pioneers of sampling music.\\n\\nSampling, now a standard practice among musicians, involves taking a segment of one track and using it in a different song. A three-judge panel of the court held in 2003 that the band had abided by copyright protections by paying a licence fee for a sample of Mr Newton's recording. That finding upheld a lower-court dismissal of the case in favour of t...   \n",
       "1918  The Force is strong in Battlefront\\n\\nThe warm reception that has greeted Star Wars: Battlefront is a reflection not of any ingenious innovation in its gameplay, but of its back-to-basics approach and immense nostalgia quotient.\\n\\nGeared towards online gamers, it is based around little more than a series of all-out gunfights, set in an array of locations all featured in, or hinted at during, the two blockbusting film trilogies. Previous Star Wars titles like the acclaimed Knights Of The Old Republic and Jedi Knight have regularly impressed with their imaginative forays into the far corners of the franchise's extensive universe, and their use of weird and wonderful new characters. Battlefront on the other hand wholeheartedly revisits the most recognisable elements of the hit movies themselves.\\n\\nThe sights, sounds and protagonists on show here will all be instantly familiar to fans, who may well feel that the opportunity to relive Star Wars' most memorable screen skirmishes makes ...   \n",
       "1923  Millions to miss out on the net\\n\\nBy 2025, 40% of the UK's population will still be without internet access at home, says a study.\\n\\nAround 23 million Britons will miss out on a wide range of essential services such as education and medical information, predicts the report by telecoms giant BT. It compares to 27 million, or 50%, of the UK, who are not currently online. The idea that the digital divide will evaporate with time is \"wishful thinking\", the report concludes.\\n\\nThe study calls on the government and telecoms industry to come up with new ways to lure those that have been bypassed by the digital revolution. Although the percentage of Britons without home access will have fallen slightly, those that remain digital refuseniks will miss out on more, the report suggests. As more and more everyday tasks move online and offline services become less comprehensive, the divide will become more obvious and more burdensome for those that have not got net access, it predicts.\\n\\nThe...   \n",
       "1486  Balco case trial date pushed back\\n\\nThe trial date for the Bay Area Laboratory Cooperative (Balco) steroid distribution case has been postponed.\\n\\nUS judge Susan Illston pushed back a preliminary evidentiary hearing - which was due to take place on Wednesday - until 6 June. No official trial date has been set but it is expected to begin in September. Balco founder Victor Conte along with James Valente, coach Remy Korchemny and trainer Greg Anderson are charged with distributing steroids to athletes.\\n\\nAnderson's clients include Barry Bonds, and several other baseball stars have been asked to appear before a congressional inquiry into steroid use in the major leagues. The Balco defence team have already lost their appeal to have the case dismissed at a pre-trial hearing in San Francisco but will still argue the case should not go to trial. The hearing in June will focus on the admissibility of evidence gathered during police raids on Balco's offices and Anderson's home. Conte and...   \n",
       "2098  New browser wins over net surfers\\n\\nThe proportion of surfers using Microsoft's Internet Explorer (IE) has dropped to below 90%, say web analysts.\\n\\nNet traffic monitor, OneStat.com, has reported that the open-source browser Firefox 1.0, released on 9 November, seems to be drawing users away from IE. While IE's market share has dropped 5% since May to 88.9%, Mozilla browsers - including Firefox - have grown by 5%. Firefox is made by the Mozilla Foundation which was set up by former browser maker Netscape in 1998. Although there have been other preview versions of Firefox, version 1.0 was the first complete official program. \"It seems that people are switching from Microsoft's Internet Explorer to Mozilla's new Firefox browser,\" said Niels Brinkman, co-founder of Amsterdam-based OneStat.com.\\n\\nMozilla browsers - including Firefox 1.0 - now have 7.4% of the market share, the figures suggest. Mozilla said that more than five million have downloaded the free software since its offic...   \n",
       "1312  UK troops on Ivory Coast standby\\n\\nDowning Street has confirmed British troops are on standby in case they need to help evacuate several hundred UK citizens from Ivory Coast.\\n\\nThe news came as it emerged France had begun evacuating its hostages after days of anti-French demonstrations. Trouble flared after nine French peacekeepers were killed and President Jacques Chirac ordered the destruction of the Ivory Coast's air force. A company of 100-120 UK troops is understood to have been put on standby. They are ready to fly out and secure the route from the embassy to the airport if called upon. Prime Minister Tony Blair's official spokesman said: \"There are British nationals in Ivory Coast and as you can imagine we are making the usual contingency plans in case the situation deteriorates further, but that's all I can say at this stage.\"\\n\\nHe added the situation would be monitored carefully in case evacuation became necessary. France has played a lead role in international peacekee...   \n",
       "1179  Mandelson warning to BBC\\n\\nThe BBC should steer away from \"demonising\" ex-Downing Street media chief Alastair Campbell, Peter Mandelson has said.\\n\\nThe European commissioner and former Labour minister was speaking amid claims that Mr Campbell is part of a Labour \"dirty tricks\" campaign. That charge was denied by Mr Mandelson, who said the Tories were afraid of Mr Campbell's campaigning skills. He warned the BBC that attacking Mr Campbell had brought it trouble before. That was a reference to the Hutton inquiry following a BBC story claiming Downing Street \"sexed up\" Iraq's weapons of mass destruction dossier.\\n\\nThe affair prompted the resignation of BBC chairman Gavyn Davies, director-general Greg Dyke and reporter Andrew Gilligan. Labour has attracted media criticism for using new freedom of information laws to dig up information about Tory leader Michael Howard's past.\\n\\nMr Mandelson, a former Labour communications director, told BBC Radio 4's Today programme: \"I understand w...   \n",
       "873   Charity single for quake relief\\n\\nSingers including Sir Cliff Richard and Boy George are recording a charity single to help raise funds for victims of the Asian tsunami.\\n\\nThey hope the song will raise more than £2m for the relief fund. The song, titled Grief Never Grows Old and described as a melancholy ballad, was written by radio DJ Mike Read. Former Boyzone singer Ronan Keating may also take part if a studio can be found close to where he is holidaying in Switzerland. Other music stars being approached include Robin and Barry Gibb of The Bee Gees, jazz sensation Jamie Cullum, Chris Rea and Olivia Newton-John.\\n\\nSir Cliff has recorded his vocal part in Barbados, while Boy George has recorded his in New York. Read wrote the song before the Boxing Day tragedy but had thought it was too gloomy to release. Now he plans to have it recorded by a collection of pop stars under the name One World Project. \"It's a natural home for it because people kept saying to me, 'it's such a good ...   \n",
       "509   Iraq to invite phone licence bids\\n\\nIraq is to invite bids for two telephone licences, saying it wants to significantly boost nationwide coverage over the next decade.\\n\\nBids have been invited from local, Arab and foreign companies, Iraq's Ministry of Communications said. The winner will work in partnership with the Iraqi Telecommunications and Post Company (ITPC). The firms will install and operate a fixed phone network, providing voice, fax and internet services.\\n\\nThe ministry said that it wanted to increase Iraq's \"very low telephone service penetration rate from about 4.5% today to about 25% within 10 years.\" It also hopes to develop a \"highly visible and changeable telecommunication sector\". Details of the bidding and tender process will be published on the ministry's website on 9 February. It also is planning a road-show for investors in Amman, Jordan. The ministry said it would base its selection on criteria including the speed of implementation, tariff rates, coverage, ...   \n",
       "1803  Italy 17-28 Ireland\\n\\nTwo moments of magic from Brian O'Driscoll guided Ireland to a workmanlike victory against Italy.\\n\\nA pair of classic outside breaks from the Ireland captain set up tries for Geordan Murphy and Peter Stringer. Italy led 9-8 early in the second half but Stringer's try gave Ireland a lead they never lost. The hosts cut the gap to 18-12 with 10 minutes left and nearly scored through Ludovico Nitoglia, but Denis Hickie's try ensured an Irish victory. Italy came flying out of the blocks and took the lead through a Luciano Orquera penalty after seven minutes.\\n\\nIt could have been better for the hosts but the fly-half missed two kickable penalties and Ireland drew level with a Ronan O'Gara penalty midway through the first half. The Italians were driving at the heart of the Irish defence and, for the first quarter, the Irish pack struggled to secure any ball for their talented backs.\\n\\nWhen they finally did, just before the half-hour mark, O'Driscoll promptly crea...   \n",
       "\n",
       "                                                                                                                                                                                                                                                                                                                                                                                                                                                                                                                                                                                                                                                                                                                                                                                                                                                                                                                                                                                                                                      Summary  \\\n",
       "545                                                                                                                                                                                                                                                                                                  Mr Newton and the Beastie Boys were not available for comment.Although the group had paid a licence fee for the sample, Mr Newton said his copyright had been infringed.US rappers Beastie Boys have won their long-running battle over the use of a sample in their song Pass the Mic.\"We hold that Beastie Boys' use of a brief segment of that composition, consisting of three notes separated by a half-step over a background C note, is not sufficient to sustain a claim for infringement of Newton's copyright,\" Chief Judge Mary Schroeder wrote in her opinion.A three-judge panel of the court held in 2003 that the band had abided by copyright protections by paying a licence fee for a sample of Mr Newton's recording.   \n",
       "1918  It has to be said if the game did not have the boon of being Star Wars, it would not stand up for long.The sights, sounds and protagonists on show here will all be instantly familiar to fans, who may well feel that the opportunity to relive Star Wars' most memorable screen skirmishes makes this the game they have always waited for.Speaking of noise, Battlefront is a real testament to the strength of the Star Wars galaxy's audio motifs.The warm reception that has greeted Star Wars: Battlefront is a reflection not of any ingenious innovation in its gameplay, but of its back-to-basics approach and immense nostalgia quotient.Whilst it is firmly designed with multiplayer action in mind, Battlefront is actually perfectly good fun as an offline game.The number of combatants, noise and abundance of laser fire see to that, and the sense of chaos really comes over.The feel of those places is well and truly captured, with both backdrops and characters looking good and very authentic.There are...   \n",
       "1923  Although the percentage of Britons without home access will have fallen slightly, those that remain digital refuseniks will miss out on more, the report suggests.\"Internet access on other devices tends to be something taken up by those who already have it,\" said Adrian Hosford, director of corporate responsibility at BT.Optimists who predict that convergence and the emergence of more user-friendly technology will bridge the digital divide could be way off mark, the report suggests.Organisations such as BT have a responsibility to help tackle the problem, said Mr Hosford.Such grassroot activity addressing the specific needs of individual communities is essential is the problem of the digital divide is to be overcome, he said.The idea that the digital divide will evaporate with time is \"wishful thinking\", the report concludes.Those on low incomes will account for a quarter of the digital have-nots, the disabled will make up 16% and the elderly nearly a third by 2025, the report forec...   \n",
       "1486                                                                                                                                                                                               The trial date for the Bay Area Laboratory Cooperative (Balco) steroid distribution case has been postponed.Balco has been accused by the United States Anti-Doping Agency (USADA) of being the source of the banned steroid THG and modafinil.The Balco defence team have already lost their appeal to have the case dismissed at a pre-trial hearing in San Francisco but will still argue the case should not go to trial.Balco founder Victor Conte along with James Valente, coach Remy Korchemny and trainer Greg Anderson are charged with distributing steroids to athletes.No official trial date has been set but it is expected to begin in September.Former double world champion Kelli White and Olympic relay star Alvin Harrison have both been banned on the basis of materials discovered during the Balco investigation.   \n",
       "2098  Mozilla browsers - including Firefox 1.0 - now have 7.4% of the market share, the figures suggest.While IE's market share has dropped 5% since May to 88.9%, Mozilla browsers - including Firefox - have grown by 5%.Net traffic monitor, OneStat.com, has reported that the open-source browser Firefox 1.0, released on 9 November, seems to be drawing users away from IE.Firefox is made by the Mozilla Foundation which was set up by former browser maker Netscape in 1998.\"It seems that people are switching from Microsoft's Internet Explorer to Mozilla's new Firefox browser,\" said Niels Brinkman, co-founder of Amsterdam-based OneStat.com.Microsoft IE has dominated the browser market for some time after taking the crown from Netscape, and its share of users has always stayed at around the 95% mark.Other browser software, like Opera and Apple's Safari, are also challenging Microsoft's grip on the browser market.Firefox wants to capture 10% of the market by the end of 2005.Supporters of the open-...   \n",
       "1312                                                                                                                                                                                                                                                                                                                                                                                                               Downing Street has confirmed British troops are on standby in case they need to help evacuate several hundred UK citizens from Ivory Coast.The Spanish have already put their forces on standby to evacuate their nationals if necessary.Trouble flared after nine French peacekeepers were killed and President Jacques Chirac ordered the destruction of the Ivory Coast's air force.France has played a lead role in international peacekeeping in Ivory Coast - a former colony - after President Laurent Gbagbo broke an 18-month ceasefire with rebels bombing their positions and killing the nine French soldiers.   \n",
       "1179                                                                                  Mr Mandelson, a former Labour communications director, told BBC Radio 4's Today programme: \"I understand why the Tories will be gunning for Alastair Campbell because they fear his campaigning skills.That charge was denied by Mr Mandelson, who said the Tories were afraid of Mr Campbell's campaigning skills.He warned the BBC that attacking Mr Campbell had brought it trouble before.The European commissioner and former Labour minister was speaking amid claims that Mr Campbell is part of a Labour \"dirty tricks\" campaign.Mr Campbell is acting as an adviser for Labour, which denies engaging in personal campaigning.The BBC should steer away from \"demonising\" ex-Downing Street media chief Alastair Campbell, Peter Mandelson has said.Conservative co-chairman Liam Fox said Mr Campbell's return and Labour poster plans attacking Mr Howard - recently withdrawn from the party's website - were a sign of \"abusive politics\".   \n",
       "873                                                                                                                                                                                                                                                                                                     He said the song was a slow ballad and would work with around 10 singers, rather than a \"sing-along\" like the Band Aid 20 single raising money for famine relief in Africa.They hope the song will raise more than £2m for the relief fund.Read wrote the song before the Boxing Day tragedy but had thought it was too gloomy to release.\"It's a natural home for it because people kept saying to me, 'it's such a good song', but it's such a sad song,\" Read said.Read said all the funds raised by the record would go to the DEC. \"I'd only be pleased in terms of what it meant for sales if it got to number one,\" he added.Sir Cliff has recorded his vocal part in Barbados, while Boy George has recorded his in New York.   \n",
       "509                                                                                                                                                                                                                                                                                                                                                                                                                                                                                                                 The ministry said that it wanted to increase Iraq's \"very low telephone service penetration rate from about 4.5% today to about 25% within 10 years.\"Bids have been invited from local, Arab and foreign companies, Iraq's Ministry of Communications said.The ministry said it would base its selection on criteria including the speed of implementation, tariff rates, coverage, and the firm's experience and financial strength.It also hopes to develop a \"highly visible and changeable telecommunication sector\".   \n",
       "1803  An O'Gara penalty put Ireland more than a converted try ahead and they made the game safe when Hickie latched onto an inside pass from Murphy and crossed for a converted try.A pair of classic outside breaks from the Ireland captain set up tries for Geordan Murphy and Peter Stringer.The only Ireland player offering a real threat was O'Driscoll, and it was his break that set up the second try for the visitors.Italy led 9-8 early in the second half but Stringer's try gave Ireland a lead they never lost.Roland de Marigny took over the kicking duties for Italy from the hapless Orquera, and he landed a penalty either side of the break to edge Italy into a 9-8 lead.Two moments of magic from Brian O'Driscoll guided Ireland to a workmanlike victory against Italy.It could have been better for the hosts but the fly-half missed two kickable penalties and Ireland drew level with a Ronan O'Gara penalty midway through the first half.Murphy, Horgan, O'Driscoll, D'Arcy, Hickie, O'Gara, Stringer, Co...   \n",
       "\n",
       "              source  \n",
       "545   entertrainment  \n",
       "1918            tech  \n",
       "1923            tech  \n",
       "1486           sport  \n",
       "2098            tech  \n",
       "1312        politics  \n",
       "1179        politics  \n",
       "873   entertrainment  \n",
       "509         business  \n",
       "1803           sport  "
      ]
     },
     "execution_count": 16,
     "metadata": {},
     "output_type": "execute_result"
    }
   ],
   "source": [
    "df.sample(10)"
   ]
  },
  {
   "cell_type": "code",
   "execution_count": 17,
   "metadata": {},
   "outputs": [
    {
     "data": {
      "text/plain": [
       "(2224, 4)"
      ]
     },
     "execution_count": 17,
     "metadata": {},
     "output_type": "execute_result"
    }
   ],
   "source": [
    "df.shape"
   ]
  },
  {
   "cell_type": "code",
   "execution_count": 18,
   "metadata": {},
   "outputs": [],
   "source": [
    "df.to_csv(\n",
    "    output_dir+\"/df.csv\",\n",
    "    quoting=csv.QUOTE_NONNUMERIC,\n",
    "    escapechar=\"\\\\\",\n",
    "    doublequote=False,\n",
    "    index=False)"
   ]
  }
 ],
 "metadata": {
  "kernelspec": {
   "display_name": "Python 3",
   "language": "python",
   "name": "python3"
  },
  "language_info": {
   "codemirror_mode": {
    "name": "ipython",
    "version": 3
   },
   "file_extension": ".py",
   "mimetype": "text/x-python",
   "name": "python",
   "nbconvert_exporter": "python",
   "pygments_lexer": "ipython3",
   "version": "3.6.9"
  },
  "toc": {
   "base_numbering": 1,
   "nav_menu": {},
   "number_sections": true,
   "sideBar": true,
   "skip_h1_title": false,
   "title_cell": "Table of Contents",
   "title_sidebar": "Contents",
   "toc_cell": false,
   "toc_position": {},
   "toc_section_display": true,
   "toc_window_display": false
  }
 },
 "nbformat": 4,
 "nbformat_minor": 4
}
