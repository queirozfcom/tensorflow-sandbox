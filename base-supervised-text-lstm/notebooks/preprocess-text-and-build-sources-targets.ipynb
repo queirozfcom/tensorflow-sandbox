{
 "cells": [
  {
   "cell_type": "markdown",
   "metadata": {},
   "source": [
    "### loosely following this https://www.tensorflow.org/tutorials/text/text_generation and some of this https://www.tensorflow.org/tutorials/text/nmt_with_attention"
   ]
  },
  {
   "cell_type": "markdown",
   "metadata": {},
   "source": [
    "- for a abstractive summarization, it's a supervised task so we want to have input/output pairs (so we need `<start>`/`<end>` markers and masking/padding) \n",
    "\n",
    "\n",
    "- **ideally**, we would also want a **char-level model** because sentences, numbers and capital letters are important too so let's see if we can do that\n",
    "\n",
    " - if we do a word-level model we would have to limit the vocabulary at some point\n",
    " \n",
    " \n",
    "- also, while the shakespeare language model is just trained on the whole text concatenated, we **need to split the dara into pairs of text/summary** like in the NMT example"
   ]
  },
  {
   "cell_type": "code",
   "execution_count": 1,
   "metadata": {},
   "outputs": [
    {
     "data": {
      "text/plain": [
       "('/home/felipe/tf2-venv/bin/python3', '3.6.9')"
      ]
     },
     "execution_count": 1,
     "metadata": {},
     "output_type": "execute_result"
    }
   ],
   "source": [
    "import sys\n",
    "from platform import python_version\n",
    "\n",
    "sys.executable,python_version()"
   ]
  },
  {
   "cell_type": "code",
   "execution_count": 114,
   "metadata": {},
   "outputs": [],
   "source": [
    "import tensorflow as tf\n",
    "\n",
    "import numpy as np\n",
    "import os\n",
    "import time\n",
    "import pandas as pd\n",
    "import re\n",
    "\n",
    "from tensorflow.keras.preprocessing.text import Tokenizer"
   ]
  },
  {
   "cell_type": "code",
   "execution_count": 3,
   "metadata": {},
   "outputs": [],
   "source": [
    "# general options\n",
    "pd.set_option('display.max_columns',100)\n",
    "pd.set_option('display.max_rows',100)\n",
    "\n",
    "# for text columns\n",
    "pd.set_option('display.max_colwidth',1000)\n",
    "pd.set_option('display.html.use_mathjax',False)"
   ]
  },
  {
   "cell_type": "code",
   "execution_count": 4,
   "metadata": {},
   "outputs": [],
   "source": [
    "df = pd.read_csv(\n",
    "    \"/home/felipe/tensorflow-sandbox/base-supervised-text-lstm/data/processed/df.csv\",\n",
    "    escapechar=\"\\\\\")"
   ]
  },
  {
   "cell_type": "code",
   "execution_count": 5,
   "metadata": {},
   "outputs": [
    {
     "data": {
      "text/html": [
       "<div>\n",
       "<style scoped>\n",
       "    .dataframe tbody tr th:only-of-type {\n",
       "        vertical-align: middle;\n",
       "    }\n",
       "\n",
       "    .dataframe tbody tr th {\n",
       "        vertical-align: top;\n",
       "    }\n",
       "\n",
       "    .dataframe thead th {\n",
       "        text-align: right;\n",
       "    }\n",
       "</style>\n",
       "<table border=\"1\" class=\"dataframe tex2jax_ignore\">\n",
       "  <thead>\n",
       "    <tr style=\"text-align: right;\">\n",
       "      <th></th>\n",
       "      <th>File</th>\n",
       "      <th>Text</th>\n",
       "      <th>Summary</th>\n",
       "      <th>source</th>\n",
       "    </tr>\n",
       "  </thead>\n",
       "  <tbody>\n",
       "    <tr>\n",
       "      <th>1769</th>\n",
       "      <td>070.txt</td>\n",
       "      <td>Record fails to lift lacklustre meet\\n\\nYelena Isinbayeva may have produced another world pole vault record, but her achievement could not hide the fact it was not the best meet we have ever seen in Birmingham.\\n\\nAnd hey, there are not many meets that go by without the Russian breaking a world record.\\n\\nApparently, Isinbayeva has cleared five metres in training and I would just love her to put us out of our misery and have a go at it rather than extending the indoor record by one centimetre at a time. Athletics to me is all about pushing the barriers and being the best you can, and I would like to see her have a go at 5m in competition. Mind you, every time she breaks the record she gets $30,000 so she can afford to be deliberate about it. World records aside, I thought it was a very encouraging evening's work for Kelly Holmes. She looked good and was very positive. Agnes Samaria, who came second, is in very good shape and is in the world's top three 800m runners this season. Yes...</td>\n",
       "      <td>Yelena Isinbayeva may have produced another world pole vault record, but her achievement could not hide the fact it was not the best meet we have ever seen in Birmingham.From an international perspective, I thought Meseret Defar was disappointing in the 3,000m, but I don't think the pace-making was great.World records aside, I thought it was a very encouraging evening's work for Kelly Holmes.She had a go but just could not hang in there.From a British point of view, Sarah Claxton's victory in the 60m hurdles was the best thing to come out of the meet.She looked good and was very positive.But he has only just come over from the USA, so he may not be that sharp and I still think he is in great shape.Apparently, Isinbayeva has cleared five metres in training and I would just love her to put us out of our misery and have a go at it rather than extending the indoor record by one centimetre at a time.Yes, Samaria let Kelly get away, but there was no coming back over the last 200m as Kell...</td>\n",
       "      <td>sport</td>\n",
       "    </tr>\n",
       "    <tr>\n",
       "      <th>90</th>\n",
       "      <td>185.txt</td>\n",
       "      <td>US bank 'loses' customer details\\n\\nThe Bank of America has revealed it has lost computer tapes containing account details of more than one million customers who are US federal employees.\\n\\nSeveral members of the US Senate are among those affected, who could now be vulnerable to identity theft. Senate sources say the missing tapes may have been stolen from a plane by baggage handlers. The bank gave no details of how the records disappeared, but said they had probably not been misused. Customers' accounts were being monitoring and account holders would be notified if any \"unusual activity\" was detected, bank officials said.\\n\\nBank of America said the tapes went missing in December while being shipped to a back-up data centre. \"We, with federal law authorities, have done a very robust, thorough investigation on this and neither we nor they would make the statement lightly that we believe those tapes to be lost,\" Alexandra Tower, a spokeswoman for the North Carolina-based bank, told...</td>\n",
       "      <td>New York Senator Charles Schumer said he was told by the Senate Rules Committee that the tapes were probably stolen from a commercial plane.Bank of America said the tapes went missing in December while being shipped to a back-up data centre.But although there was no evidence of criminal activity, the bank said, the Secret Service - a federal agency whose brief includes investigations of serious financial crime - is said to be looking into the loss.Customers' accounts were being monitoring and account holders would be notified if any \"unusual activity\" was detected, bank officials said.The Bank of America has revealed it has lost computer tapes containing account details of more than one million customers who are US federal employees.</td>\n",
       "      <td>business</td>\n",
       "    </tr>\n",
       "  </tbody>\n",
       "</table>\n",
       "</div>"
      ],
      "text/plain": [
       "         File  \\\n",
       "1769  070.txt   \n",
       "90    185.txt   \n",
       "\n",
       "                                                                                                                                                                                                                                                                                                                                                                                                                                                                                                                                                                                                                                                                                                                                                                                                                                                                                                                                                                                                                                         Text  \\\n",
       "1769  Record fails to lift lacklustre meet\\n\\nYelena Isinbayeva may have produced another world pole vault record, but her achievement could not hide the fact it was not the best meet we have ever seen in Birmingham.\\n\\nAnd hey, there are not many meets that go by without the Russian breaking a world record.\\n\\nApparently, Isinbayeva has cleared five metres in training and I would just love her to put us out of our misery and have a go at it rather than extending the indoor record by one centimetre at a time. Athletics to me is all about pushing the barriers and being the best you can, and I would like to see her have a go at 5m in competition. Mind you, every time she breaks the record she gets $30,000 so she can afford to be deliberate about it. World records aside, I thought it was a very encouraging evening's work for Kelly Holmes. She looked good and was very positive. Agnes Samaria, who came second, is in very good shape and is in the world's top three 800m runners this season. Yes...   \n",
       "90    US bank 'loses' customer details\\n\\nThe Bank of America has revealed it has lost computer tapes containing account details of more than one million customers who are US federal employees.\\n\\nSeveral members of the US Senate are among those affected, who could now be vulnerable to identity theft. Senate sources say the missing tapes may have been stolen from a plane by baggage handlers. The bank gave no details of how the records disappeared, but said they had probably not been misused. Customers' accounts were being monitoring and account holders would be notified if any \"unusual activity\" was detected, bank officials said.\\n\\nBank of America said the tapes went missing in December while being shipped to a back-up data centre. \"We, with federal law authorities, have done a very robust, thorough investigation on this and neither we nor they would make the statement lightly that we believe those tapes to be lost,\" Alexandra Tower, a spokeswoman for the North Carolina-based bank, told...   \n",
       "\n",
       "                                                                                                                                                                                                                                                                                                                                                                                                                                                                                                                                                                                                                                                                                                                                                                                                                                                                                                                                                                                                                                      Summary  \\\n",
       "1769  Yelena Isinbayeva may have produced another world pole vault record, but her achievement could not hide the fact it was not the best meet we have ever seen in Birmingham.From an international perspective, I thought Meseret Defar was disappointing in the 3,000m, but I don't think the pace-making was great.World records aside, I thought it was a very encouraging evening's work for Kelly Holmes.She had a go but just could not hang in there.From a British point of view, Sarah Claxton's victory in the 60m hurdles was the best thing to come out of the meet.She looked good and was very positive.But he has only just come over from the USA, so he may not be that sharp and I still think he is in great shape.Apparently, Isinbayeva has cleared five metres in training and I would just love her to put us out of our misery and have a go at it rather than extending the indoor record by one centimetre at a time.Yes, Samaria let Kelly get away, but there was no coming back over the last 200m as Kell...   \n",
       "90                                                                                                                                                                                                                                                                    New York Senator Charles Schumer said he was told by the Senate Rules Committee that the tapes were probably stolen from a commercial plane.Bank of America said the tapes went missing in December while being shipped to a back-up data centre.But although there was no evidence of criminal activity, the bank said, the Secret Service - a federal agency whose brief includes investigations of serious financial crime - is said to be looking into the loss.Customers' accounts were being monitoring and account holders would be notified if any \"unusual activity\" was detected, bank officials said.The Bank of America has revealed it has lost computer tapes containing account details of more than one million customers who are US federal employees.   \n",
       "\n",
       "        source  \n",
       "1769     sport  \n",
       "90    business  "
      ]
     },
     "execution_count": 5,
     "metadata": {},
     "output_type": "execute_result"
    }
   ],
   "source": [
    "df.sample(2,random_state=10)"
   ]
  },
  {
   "cell_type": "code",
   "execution_count": 68,
   "metadata": {},
   "outputs": [],
   "source": [
    "df_preproc = df.copy()"
   ]
  },
  {
   "cell_type": "markdown",
   "metadata": {},
   "source": [
    "> periods in the Summary text don't have a space after them, let's fix that"
   ]
  },
  {
   "cell_type": "code",
   "execution_count": 69,
   "metadata": {},
   "outputs": [
    {
     "data": {
      "text/plain": [
       "'foo. Bar'"
      ]
     },
     "execution_count": 69,
     "metadata": {},
     "output_type": "execute_result"
    }
   ],
   "source": [
    "def add_space_after_periods(input_str):\n",
    "    \n",
    "    # only points followed by a capital letter\n",
    "    return re.sub(r'(\\w)\\.([A-Z])',r'\\1. \\2',input_str)\n",
    "    \n",
    "add_space_after_periods(\"foo.Bar\")"
   ]
  },
  {
   "cell_type": "code",
   "execution_count": 71,
   "metadata": {},
   "outputs": [],
   "source": [
    "def add_start_end_markers(input_str):\n",
    "    w = input_str.strip()\n",
    "\n",
    "    # adding a start and an end token to the sentence\n",
    "    # so that the model know when to start and stop predicting.\n",
    "    w = '<start> ' + w + ' <end>'    \n",
    "    \n",
    "    return w"
   ]
  },
  {
   "cell_type": "code",
   "execution_count": 72,
   "metadata": {},
   "outputs": [],
   "source": [
    "def remove_header_line(input_str):\n",
    "    \n",
    "    return re.sub(r'^[^\\n]+\\n\\n','',input_str)"
   ]
  },
  {
   "cell_type": "code",
   "execution_count": 73,
   "metadata": {},
   "outputs": [],
   "source": [
    "df_preproc['Summary_preproc'] = df_preproc['Summary'].apply(add_space_after_periods)\n",
    "df_preproc['Summary_preproc'] = df_preproc['Summary_preproc'].apply(add_start_end_markers)"
   ]
  },
  {
   "cell_type": "code",
   "execution_count": 74,
   "metadata": {},
   "outputs": [],
   "source": [
    "df_preproc[\"Text_preproc\"] = df_preproc[\"Text\"].apply(remove_header_line)\n",
    "df_preproc[\"Text_preproc\"] = df_preproc[\"Text_preproc\"].apply(add_start_end_markers)"
   ]
  },
  {
   "cell_type": "code",
   "execution_count": 76,
   "metadata": {},
   "outputs": [
    {
     "data": {
      "text/html": [
       "<div>\n",
       "<style scoped>\n",
       "    .dataframe tbody tr th:only-of-type {\n",
       "        vertical-align: middle;\n",
       "    }\n",
       "\n",
       "    .dataframe tbody tr th {\n",
       "        vertical-align: top;\n",
       "    }\n",
       "\n",
       "    .dataframe thead th {\n",
       "        text-align: right;\n",
       "    }\n",
       "</style>\n",
       "<table border=\"1\" class=\"dataframe tex2jax_ignore\">\n",
       "  <thead>\n",
       "    <tr style=\"text-align: right;\">\n",
       "      <th></th>\n",
       "      <th>Text_preproc</th>\n",
       "      <th>Summary_preproc</th>\n",
       "    </tr>\n",
       "  </thead>\n",
       "  <tbody>\n",
       "    <tr>\n",
       "      <th>1769</th>\n",
       "      <td>&lt;start&gt; Yelena Isinbayeva may have produced another world pole vault record, but her achievement could not hide the fact it was not the best meet we have ever seen in Birmingham.\\n\\nAnd hey, there are not many meets that go by without the Russian breaking a world record.\\n\\nApparently, Isinbayeva has cleared five metres in training and I would just love her to put us out of our misery and have a go at it rather than extending the indoor record by one centimetre at a time. Athletics to me is all about pushing the barriers and being the best you can, and I would like to see her have a go at 5m in competition. Mind you, every time she breaks the record she gets $30,000 so she can afford to be deliberate about it. World records aside, I thought it was a very encouraging evening's work for Kelly Holmes. She looked good and was very positive. Agnes Samaria, who came second, is in very good shape and is in the world's top three 800m runners this season. Yes, Samaria let Kelly get away, bu...</td>\n",
       "      <td>&lt;start&gt; Yelena Isinbayeva may have produced another world pole vault record, but her achievement could not hide the fact it was not the best meet we have ever seen in Birmingham. From an international perspective, I thought Meseret Defar was disappointing in the 3,000m, but I don't think the pace-making was great. World records aside, I thought it was a very encouraging evening's work for Kelly Holmes. She had a go but just could not hang in there. From a British point of view, Sarah Claxton's victory in the 60m hurdles was the best thing to come out of the meet. She looked good and was very positive. But he has only just come over from the USA, so he may not be that sharp and I still think he is in great shape. Apparently, Isinbayeva has cleared five metres in training and I would just love her to put us out of our misery and have a go at it rather than extending the indoor record by one centimetre at a time. Yes, Samaria let Kelly get away, but there was no coming back over the l...</td>\n",
       "    </tr>\n",
       "    <tr>\n",
       "      <th>90</th>\n",
       "      <td>&lt;start&gt; The Bank of America has revealed it has lost computer tapes containing account details of more than one million customers who are US federal employees.\\n\\nSeveral members of the US Senate are among those affected, who could now be vulnerable to identity theft. Senate sources say the missing tapes may have been stolen from a plane by baggage handlers. The bank gave no details of how the records disappeared, but said they had probably not been misused. Customers' accounts were being monitoring and account holders would be notified if any \"unusual activity\" was detected, bank officials said.\\n\\nBank of America said the tapes went missing in December while being shipped to a back-up data centre. \"We, with federal law authorities, have done a very robust, thorough investigation on this and neither we nor they would make the statement lightly that we believe those tapes to be lost,\" Alexandra Tower, a spokeswoman for the North Carolina-based bank, told Time magazine. But although...</td>\n",
       "      <td>&lt;start&gt; New York Senator Charles Schumer said he was told by the Senate Rules Committee that the tapes were probably stolen from a commercial plane. Bank of America said the tapes went missing in December while being shipped to a back-up data centre. But although there was no evidence of criminal activity, the bank said, the Secret Service - a federal agency whose brief includes investigations of serious financial crime - is said to be looking into the loss. Customers' accounts were being monitoring and account holders would be notified if any \"unusual activity\" was detected, bank officials said. The Bank of America has revealed it has lost computer tapes containing account details of more than one million customers who are US federal employees. &lt;end&gt;</td>\n",
       "    </tr>\n",
       "  </tbody>\n",
       "</table>\n",
       "</div>"
      ],
      "text/plain": [
       "                                                                                                                                                                                                                                                                                                                                                                                                                                                                                                                                                                                                                                                                                                                                                                                                                                                                                                                                                                                                                                 Text_preproc  \\\n",
       "1769  <start> Yelena Isinbayeva may have produced another world pole vault record, but her achievement could not hide the fact it was not the best meet we have ever seen in Birmingham.\\n\\nAnd hey, there are not many meets that go by without the Russian breaking a world record.\\n\\nApparently, Isinbayeva has cleared five metres in training and I would just love her to put us out of our misery and have a go at it rather than extending the indoor record by one centimetre at a time. Athletics to me is all about pushing the barriers and being the best you can, and I would like to see her have a go at 5m in competition. Mind you, every time she breaks the record she gets $30,000 so she can afford to be deliberate about it. World records aside, I thought it was a very encouraging evening's work for Kelly Holmes. She looked good and was very positive. Agnes Samaria, who came second, is in very good shape and is in the world's top three 800m runners this season. Yes, Samaria let Kelly get away, bu...   \n",
       "90    <start> The Bank of America has revealed it has lost computer tapes containing account details of more than one million customers who are US federal employees.\\n\\nSeveral members of the US Senate are among those affected, who could now be vulnerable to identity theft. Senate sources say the missing tapes may have been stolen from a plane by baggage handlers. The bank gave no details of how the records disappeared, but said they had probably not been misused. Customers' accounts were being monitoring and account holders would be notified if any \"unusual activity\" was detected, bank officials said.\\n\\nBank of America said the tapes went missing in December while being shipped to a back-up data centre. \"We, with federal law authorities, have done a very robust, thorough investigation on this and neither we nor they would make the statement lightly that we believe those tapes to be lost,\" Alexandra Tower, a spokeswoman for the North Carolina-based bank, told Time magazine. But although...   \n",
       "\n",
       "                                                                                                                                                                                                                                                                                                                                                                                                                                                                                                                                                                                                                                                                                                                                                                                                                                                                                                                                                                                                                              Summary_preproc  \n",
       "1769  <start> Yelena Isinbayeva may have produced another world pole vault record, but her achievement could not hide the fact it was not the best meet we have ever seen in Birmingham. From an international perspective, I thought Meseret Defar was disappointing in the 3,000m, but I don't think the pace-making was great. World records aside, I thought it was a very encouraging evening's work for Kelly Holmes. She had a go but just could not hang in there. From a British point of view, Sarah Claxton's victory in the 60m hurdles was the best thing to come out of the meet. She looked good and was very positive. But he has only just come over from the USA, so he may not be that sharp and I still think he is in great shape. Apparently, Isinbayeva has cleared five metres in training and I would just love her to put us out of our misery and have a go at it rather than extending the indoor record by one centimetre at a time. Yes, Samaria let Kelly get away, but there was no coming back over the l...  \n",
       "90                                                                                                                                                                                                                                                  <start> New York Senator Charles Schumer said he was told by the Senate Rules Committee that the tapes were probably stolen from a commercial plane. Bank of America said the tapes went missing in December while being shipped to a back-up data centre. But although there was no evidence of criminal activity, the bank said, the Secret Service - a federal agency whose brief includes investigations of serious financial crime - is said to be looking into the loss. Customers' accounts were being monitoring and account holders would be notified if any \"unusual activity\" was detected, bank officials said. The Bank of America has revealed it has lost computer tapes containing account details of more than one million customers who are US federal employees. <end>  "
      ]
     },
     "execution_count": 76,
     "metadata": {},
     "output_type": "execute_result"
    }
   ],
   "source": [
    "df_preproc.sample(2,random_state=10)[['Text_preproc','Summary_preproc']]"
   ]
  },
  {
   "cell_type": "code",
   "execution_count": 96,
   "metadata": {},
   "outputs": [],
   "source": [
    "def create_dataset(input_df, num_examples=None):\n",
    "    \n",
    "    pairs = []\n",
    "    \n",
    "    for (i,(index, row)) in enumerate(input_df.iterrows()):\n",
    "        \n",
    "        if (num_examples is not None) and (i > num_examples+1):\n",
    "            break\n",
    "        \n",
    "        pairs.append( [row[\"Text_preproc\"], row[\"Summary_preproc\"] ])   \n",
    "              \n",
    "        \n",
    "    return zip(*pairs)"
   ]
  },
  {
   "cell_type": "code",
   "execution_count": 98,
   "metadata": {},
   "outputs": [],
   "source": [
    "texts, summaries = create_dataset(df_preproc)"
   ]
  },
  {
   "cell_type": "code",
   "execution_count": 119,
   "metadata": {},
   "outputs": [
    {
     "data": {
      "text/plain": [
       "('<start> High-speed net connections in the UK are proving more popular than ever.\\n\\nBT reports that more people signed up for broadband in the last three months than in any other quarter. The 600,000 connections take the total number of people in the UK signing up for broadband from BT to almost 3.3 million. Nationally more than 5 million browse the net via broadband. Britain now has among the highest number of broadband connections throughout the whole of Europe.\\n\\nAccording to figures gathered by industry watchdog, Ofcom, the growth means that the UK has now surpassed Germany in terms of broadband users per 100 people. The UK total of 5.3 million translates into 7.5 connections per 100 people, compared to 6.7 in Germany and 15.8 in the Netherlands. The numbers of people signing up to broadband include those that get their service direct from BT or via the many companies that re-sell BT lines under their own name. Part of the surge in people signing up was due to BT stretching the reach of ADSL - the UK\\'s most widely used way of getting broadband - beyond 6km.\\n\\nAsymmetric Digital Subscriber Line technology lets ordinary copper phone lines support high data speeds. The standard speed is 512kbps, though faster connections are available. \"This breakthrough led to a dramatic increase in orders as we were suddenly able to satisfy the pent-up demand that existed in many areas,\" said Paul Reynolds, chief executive of BT Wholesale which provides phone lines that other firms re-sell. BT Retail, which sells net services under its own name, also had a good quarter and provided about 30% of the new broadband customers. This was a slight increase on the previous three months. Despite the good news about growth in broadband, figures from telecommunications regulator Ofcom show that BT faces increasing competition, and dwindling influence, in other sectors. Local Loop Unbundling, (LLU), in which BT rivals install their hardware in exchanges and take over the line to a customer\\'s home or office, is growing steadily. Cable & Wireless and NTL have announced that they are investing millions to start offering LLU services. By the end of September more than 4.2 million phone lines were using so-called Carrier Pre-Section (CPS) services, such as TalkTalk and One.Tel, which route phone calls across non-BT networks from a local exchange. There are now more than 300 different firms offering CPS services and the percentage of people using BT lines for voice calls has shrunk to 55.4%. <end>',\n",
       " \"<start> The 600,000 connections take the total number of people in the UK signing up for broadband from BT to almost 3.3 million. The numbers of people signing up to broadband include those that get their service direct from BT or via the many companies that re-sell BT lines under their own name. BT reports that more people signed up for broadband in the last three months than in any other quarter. There are now more than 300 different firms offering CPS services and the percentage of people using BT lines for voice calls has shrunk to 55.4%.The UK total of 5.3 million translates into 7.5 connections per 100 people, compared to 6.7 in Germany and 15.8 in the Netherlands. BT Retail, which sells net services under its own name, also had a good quarter and provided about 30% of the new broadband customers. Part of the surge in people signing up was due to BT stretching the reach of ADSL - the UK's most widely used way of getting broadband - beyond 6km. Nationally more than 5 million browse the net via broadband. <end>\")"
      ]
     },
     "execution_count": 119,
     "metadata": {},
     "output_type": "execute_result"
    }
   ],
   "source": [
    "sample_text = texts[-1]\n",
    "sample_summary = summaries[-1]\n",
    "\n",
    "sample_text,sample_summary"
   ]
  },
  {
   "cell_type": "code",
   "execution_count": 101,
   "metadata": {},
   "outputs": [],
   "source": [
    "all_text = \" \".join(df_preproc[\"Text_preproc\"].values)"
   ]
  },
  {
   "cell_type": "code",
   "execution_count": 102,
   "metadata": {},
   "outputs": [],
   "source": [
    "all_text = all_text + \" \".join(df_preproc[\"Summary_preproc\"].values)"
   ]
  },
  {
   "cell_type": "code",
   "execution_count": 103,
   "metadata": {},
   "outputs": [
    {
     "data": {
      "text/plain": [
       "7264578"
      ]
     },
     "execution_count": 103,
     "metadata": {},
     "output_type": "execute_result"
    }
   ],
   "source": [
    "len(all_text)"
   ]
  },
  {
   "cell_type": "code",
   "execution_count": 104,
   "metadata": {},
   "outputs": [
    {
     "data": {
      "text/plain": [
       "'f getting broadband - beyond 6km. Nationally more than 5 million browse the net via broadband. <end>'"
      ]
     },
     "execution_count": 104,
     "metadata": {},
     "output_type": "execute_result"
    }
   ],
   "source": [
    "all_text[-100:]"
   ]
  },
  {
   "cell_type": "code",
   "execution_count": 25,
   "metadata": {},
   "outputs": [
    {
     "name": "stdout",
     "output_type": "stream",
     "text": [
      "'Q&A: Malcolm ' ---- characters mapped to int ---- > [48  7 32 27  1 44 61 72 63 75 72 73  1]\n"
     ]
    }
   ],
   "source": [
    "print ('{} ---- characters mapped to int ---- > {}'.format(repr(all_text[:13]), text_as_int[:13]))"
   ]
  },
  {
   "cell_type": "code",
   "execution_count": 115,
   "metadata": {},
   "outputs": [],
   "source": [
    "tk = Tokenizer(num_words=None,char_level=True,oov_token='UNK',lower=False,filters=False)"
   ]
  },
  {
   "cell_type": "code",
   "execution_count": 116,
   "metadata": {},
   "outputs": [],
   "source": [
    "tk.fit_on_texts(all_text)"
   ]
  },
  {
   "cell_type": "code",
   "execution_count": 122,
   "metadata": {
    "scrolled": true
   },
   "outputs": [
    {
     "data": {
      "text/plain": [
       "{'UNK': 1,\n",
       " ' ': 2,\n",
       " 'e': 3,\n",
       " 't': 4,\n",
       " 'a': 5,\n",
       " 'o': 6,\n",
       " 'i': 7,\n",
       " 'n': 8,\n",
       " 's': 9,\n",
       " 'r': 10,\n",
       " 'h': 11,\n",
       " 'l': 12,\n",
       " 'd': 13,\n",
       " 'c': 14,\n",
       " 'u': 15,\n",
       " 'm': 16,\n",
       " 'p': 17,\n",
       " 'g': 18,\n",
       " 'f': 19,\n",
       " 'w': 20,\n",
       " 'y': 21,\n",
       " 'b': 22,\n",
       " '.': 23,\n",
       " 'v': 24,\n",
       " ',': 25,\n",
       " 'k': 26,\n",
       " '\"': 27,\n",
       " 'T': 28,\n",
       " 'S': 29,\n",
       " 'M': 30,\n",
       " '0': 31,\n",
       " '-': 32,\n",
       " \"'\": 33,\n",
       " 'B': 34,\n",
       " '\\n': 35,\n",
       " 'I': 36,\n",
       " 'A': 37,\n",
       " 'C': 38,\n",
       " 'x': 39,\n",
       " '1': 40,\n",
       " 'P': 41,\n",
       " '2': 42,\n",
       " 'D': 43,\n",
       " 'H': 44,\n",
       " '<': 45,\n",
       " '>': 46,\n",
       " 'L': 47,\n",
       " 'W': 48,\n",
       " 'E': 49,\n",
       " 'F': 50,\n",
       " 'G': 51,\n",
       " 'R': 52,\n",
       " 'U': 53,\n",
       " 'j': 54,\n",
       " 'N': 55,\n",
       " 'O': 56,\n",
       " 'J': 57,\n",
       " '5': 58,\n",
       " 'K': 59,\n",
       " '3': 60,\n",
       " '4': 61,\n",
       " 'q': 62,\n",
       " '9': 63,\n",
       " 'z': 64,\n",
       " ')': 65,\n",
       " '(': 66,\n",
       " 'V': 67,\n",
       " '6': 68,\n",
       " '7': 69,\n",
       " '%': 70,\n",
       " '8': 71,\n",
       " ':': 72,\n",
       " '£': 73,\n",
       " 'Y': 74,\n",
       " '$': 75,\n",
       " ';': 76,\n",
       " '?': 77,\n",
       " 'Z': 78,\n",
       " 'Q': 79,\n",
       " 'X': 80,\n",
       " '/': 81,\n",
       " '&': 82,\n",
       " '!': 83,\n",
       " '[': 84,\n",
       " ']': 85,\n",
       " '#': 86,\n",
       " '+': 87,\n",
       " '*': 88,\n",
       " '`': 89,\n",
       " '=': 90,\n",
       " '@': 91}"
      ]
     },
     "execution_count": 122,
     "metadata": {},
     "output_type": "execute_result"
    }
   ],
   "source": [
    "tk.word_index"
   ]
  },
  {
   "cell_type": "code",
   "execution_count": 137,
   "metadata": {},
   "outputs": [],
   "source": [
    "input_tensor = tf.keras.preprocessing.sequence.pad_sequences(\n",
    "    tk.texts_to_sequences(df_preproc[\"Text_preproc\"]),\n",
    "    padding='post')\n",
    "output_tensor = tf.keras.preprocessing.sequence.pad_sequences(\n",
    "    tk.texts_to_sequences(df_preproc[\"Summary_preproc\"]),\n",
    "    padding='post')"
   ]
  },
  {
   "cell_type": "code",
   "execution_count": 138,
   "metadata": {},
   "outputs": [
    {
     "data": {
      "text/plain": [
       "((2224, 25466), (2224, 12448))"
      ]
     },
     "execution_count": 138,
     "metadata": {},
     "output_type": "execute_result"
    }
   ],
   "source": [
    "input_tensor.shape, output_tensor.shape"
   ]
  },
  {
   "cell_type": "code",
   "execution_count": 145,
   "metadata": {},
   "outputs": [],
   "source": [
    "NUM_EXAMPLES = input_tensor.shape[0]\n",
    "BATCH_SIZE=32\n",
    "STEPS_PER_EPOCH = NUM_EXAMPLES // BATCH_SIZE\n",
    "EMBEDDING_DIM = 100\n",
    "VOCAB_SIZE = len(tk.word_index)+1"
   ]
  },
  {
   "cell_type": "code",
   "execution_count": 149,
   "metadata": {},
   "outputs": [],
   "source": [
    "dataset = tf.data.Dataset.from_tensor_slices((input_tensor,output_tensor)).shuffle(NUM_EXAMPLES)\n",
    "dataset = dataset.batch(BATCH_SIZE,drop_remainder=True)"
   ]
  },
  {
   "cell_type": "code",
   "execution_count": 150,
   "metadata": {},
   "outputs": [
    {
     "data": {
      "text/plain": [
       "(TensorShape([32, 25466]), TensorShape([32, 12448]))"
      ]
     },
     "execution_count": 150,
     "metadata": {},
     "output_type": "execute_result"
    }
   ],
   "source": [
    "example_input_batch, example_target_batch = next(iter(dataset))\n",
    "example_input_batch.shape, example_target_batch.shape"
   ]
  }
 ],
 "metadata": {
  "kernelspec": {
   "display_name": "Python 3",
   "language": "python",
   "name": "python3"
  },
  "language_info": {
   "codemirror_mode": {
    "name": "ipython",
    "version": 3
   },
   "file_extension": ".py",
   "mimetype": "text/x-python",
   "name": "python",
   "nbconvert_exporter": "python",
   "pygments_lexer": "ipython3",
   "version": "3.6.9"
  },
  "toc": {
   "base_numbering": 1,
   "nav_menu": {},
   "number_sections": true,
   "sideBar": true,
   "skip_h1_title": false,
   "title_cell": "Table of Contents",
   "title_sidebar": "Contents",
   "toc_cell": false,
   "toc_position": {},
   "toc_section_display": true,
   "toc_window_display": false
  }
 },
 "nbformat": 4,
 "nbformat_minor": 4
}
